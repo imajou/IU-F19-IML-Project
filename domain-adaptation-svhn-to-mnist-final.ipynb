{
 "cells": [
  {
   "cell_type": "markdown",
   "metadata": {},
   "source": [
    "# Domain Adaptation (SVHN to MNIST)\n",
    "\n",
    "Innopolis University, 2019 <br>\n",
    "Introduction to Machine Learning <br>\n",
    "\n",
    "Gleb Petrakov <br>\n",
    "g.petrakov@innopolis.ru <br>"
   ]
  },
  {
   "cell_type": "markdown",
   "metadata": {},
   "source": [
    "## Sources\n",
    "\n",
    "Maximum Classifier Discrepancy for Unsupervised Domain Adaptation <br>\n",
    "Kuniaki Saito, Kohei Watanabe, Yoshitaka Ushiku, Tatsuya Harada <br>\n",
    "\n",
    "https://arxiv.org/abs/1712.02560\n",
    "\n",
    "https://github.com/mil-tokyo/MCD_DA"
   ]
  },
  {
   "cell_type": "code",
   "execution_count": 1,
   "metadata": {},
   "outputs": [],
   "source": [
    "from __future__ import print_function\n",
    "\n",
    "import warnings\n",
    "warnings.filterwarnings('ignore')\n",
    "\n",
    "import logging\n",
    "logging.basicConfig(level=logging.FATAL)\n",
    "\n",
    "import argparse, random\n",
    "import numpy as np\n",
    "\n",
    "import matplotlib\n",
    "import matplotlib.pyplot as plt\n",
    "\n",
    "import torch\n",
    "import torch.nn as nn\n",
    "import torch.nn.functional as F\n",
    "import torch.optim as optim\n",
    "\n",
    "from torchvision import datasets, transforms"
   ]
  },
  {
   "cell_type": "markdown",
   "metadata": {},
   "source": [
    "### Arguments\n",
    "Tune hyperparameters here"
   ]
  },
  {
   "cell_type": "code",
   "execution_count": 2,
   "metadata": {},
   "outputs": [],
   "source": [
    "parser = argparse.ArgumentParser(description='PyTorch MNIST Example')\n",
    "parser.add_argument('--batch-size', type=int, default=128, metavar='N',\n",
    "                    help='input batch size for training (default: 128)')\n",
    "parser.add_argument('--test-batch-size', type=int, default=1000, metavar='N',\n",
    "                    help='input batch size for testing (default: 1000)')\n",
    "parser.add_argument('--epochs', type=int, default=20, metavar='N',\n",
    "                    help='number of epochs to train (default: 20)')\n",
    "parser.add_argument('--num-k', type=int, default=4, metavar='N',\n",
    "                    help='hyper paremeter for generator update')\n",
    "parser.add_argument('--lr', type=float, default=0.0001, metavar='LR',\n",
    "                    help='learning rate (default: 0.01)')\n",
    "parser.add_argument('--no-cuda', action='store_true', default=False,\n",
    "                    help='disables CUDA training')\n",
    "parser.add_argument('--seed', type=int, default=42, metavar='S',\n",
    "                    help='random seed (default: 1)')\n",
    "parser.add_argument('--log-interval', type=int, default=100, metavar='N',\n",
    "                    help='how many batches to wait before logging training status')\n",
    "\n",
    "parser.add_argument('--save-model', action='store_true', default=False,\n",
    "                    help='For Saving the current Model')\n",
    "args = parser.parse_args([])"
   ]
  },
  {
   "cell_type": "markdown",
   "metadata": {},
   "source": [
    "### Initialization\n",
    "To be sure results are consistent, push seeds to everyting"
   ]
  },
  {
   "cell_type": "code",
   "execution_count": 3,
   "metadata": {},
   "outputs": [],
   "source": [
    "use_cuda = not args.no_cuda and torch.cuda.is_available()\n",
    "\n",
    "torch.backends.cudnn.deterministic = True\n",
    "torch.backends.cudnn.benchmark = False\n",
    "torch.manual_seed(args.seed)\n",
    "torch.cuda.manual_seed(args.seed)\n",
    "random.seed(args.seed)\n",
    "np.random.seed(args.seed)\n",
    "\n",
    "device = torch.device(\"cuda\" if use_cuda else \"cpu\")\n",
    "\n",
    "kwargs = {'num_workers': 1, 'pin_memory': True} if use_cuda else {}"
   ]
  },
  {
   "cell_type": "markdown",
   "metadata": {},
   "source": [
    "### Dataset\n",
    "Using SVHN and MNIST datasets with PyTorch Dataloaders"
   ]
  },
  {
   "cell_type": "code",
   "execution_count": 4,
   "metadata": {},
   "outputs": [
    {
     "name": "stderr",
     "output_type": "stream",
     "text": [
      "  0%|          | 65536/182040794 [00:00<05:03, 599171.92it/s]"
     ]
    },
    {
     "name": "stdout",
     "output_type": "stream",
     "text": [
      "Downloading http://ufldl.stanford.edu/housenumbers/train_32x32.mat to ./data/data_svhn/train_32x32.mat\n"
     ]
    },
    {
     "name": "stderr",
     "output_type": "stream",
     "text": [
      "182042624it [00:02, 89257236.75it/s]                               \n",
      "  0%|          | 32768/64275384 [00:00<03:36, 297043.92it/s]"
     ]
    },
    {
     "name": "stdout",
     "output_type": "stream",
     "text": [
      "Downloading http://ufldl.stanford.edu/housenumbers/test_32x32.mat to ./data/data_svhn/test_32x32.mat\n"
     ]
    },
    {
     "name": "stderr",
     "output_type": "stream",
     "text": [
      "64282624it [00:01, 54070401.39it/s]                             \n",
      "0it [00:00, ?it/s]"
     ]
    },
    {
     "name": "stdout",
     "output_type": "stream",
     "text": [
      "Downloading http://yann.lecun.com/exdb/mnist/train-images-idx3-ubyte.gz to ./data/data_mnist/MNIST/raw/train-images-idx3-ubyte.gz\n"
     ]
    },
    {
     "name": "stderr",
     "output_type": "stream",
     "text": [
      "9920512it [00:01, 9228513.84it/s]                            \n"
     ]
    },
    {
     "name": "stdout",
     "output_type": "stream",
     "text": [
      "Extracting ./data/data_mnist/MNIST/raw/train-images-idx3-ubyte.gz to ./data/data_mnist/MNIST/raw\n"
     ]
    },
    {
     "name": "stderr",
     "output_type": "stream",
     "text": [
      "0it [00:00, ?it/s]"
     ]
    },
    {
     "name": "stdout",
     "output_type": "stream",
     "text": [
      "Downloading http://yann.lecun.com/exdb/mnist/train-labels-idx1-ubyte.gz to ./data/data_mnist/MNIST/raw/train-labels-idx1-ubyte.gz\n"
     ]
    },
    {
     "name": "stderr",
     "output_type": "stream",
     "text": [
      "32768it [00:00, 101308.49it/s]           \n",
      "  0%|          | 0/1648877 [00:00<?, ?it/s]"
     ]
    },
    {
     "name": "stdout",
     "output_type": "stream",
     "text": [
      "Extracting ./data/data_mnist/MNIST/raw/train-labels-idx1-ubyte.gz to ./data/data_mnist/MNIST/raw\n",
      "Downloading http://yann.lecun.com/exdb/mnist/t10k-images-idx3-ubyte.gz to ./data/data_mnist/MNIST/raw/t10k-images-idx3-ubyte.gz\n"
     ]
    },
    {
     "name": "stderr",
     "output_type": "stream",
     "text": [
      "1654784it [00:00, 2284090.94it/s]                            \n",
      "0it [00:00, ?it/s]"
     ]
    },
    {
     "name": "stdout",
     "output_type": "stream",
     "text": [
      "Extracting ./data/data_mnist/MNIST/raw/t10k-images-idx3-ubyte.gz to ./data/data_mnist/MNIST/raw\n",
      "Downloading http://yann.lecun.com/exdb/mnist/t10k-labels-idx1-ubyte.gz to ./data/data_mnist/MNIST/raw/t10k-labels-idx1-ubyte.gz\n"
     ]
    },
    {
     "name": "stderr",
     "output_type": "stream",
     "text": [
      "8192it [00:00, 34013.08it/s]            "
     ]
    },
    {
     "name": "stdout",
     "output_type": "stream",
     "text": [
      "Extracting ./data/data_mnist/MNIST/raw/t10k-labels-idx1-ubyte.gz to ./data/data_mnist/MNIST/raw\n",
      "Processing...\n",
      "Done!\n"
     ]
    },
    {
     "name": "stderr",
     "output_type": "stream",
     "text": [
      "\n"
     ]
    }
   ],
   "source": [
    "svhn_train_loader = torch.utils.data.DataLoader(\n",
    "    datasets.SVHN('./data/data_svhn', split='train', download=True,\n",
    "                   transform=transforms.Compose([\n",
    "                       transforms.ToTensor(),\n",
    "                       transforms.Normalize((0.5, 0.5, 0.5), (0.5, 0.5, 0.5))\n",
    "                   ])),\n",
    "    batch_size=args.batch_size, drop_last=True, shuffle=True, **kwargs)\n",
    "\n",
    "svhn_test_loader = torch.utils.data.DataLoader(\n",
    "    datasets.SVHN('./data/data_svhn', split='test', download=True,\n",
    "                  transform=transforms.Compose([\n",
    "                       transforms.ToTensor(),\n",
    "                       transforms.Normalize((0.5, 0.5, 0.5), (0.5, 0.5, 0.5))\n",
    "                   ])),\n",
    "    batch_size=args.test_batch_size, drop_last=True, shuffle=True, **kwargs)\n",
    "\n",
    "mnist_train_loader = torch.utils.data.DataLoader(\n",
    "    datasets.MNIST('./data/data_mnist', train=True, download=True,\n",
    "                  transform=transforms.Compose([\n",
    "                       transforms.Resize((32,32)),\n",
    "                       transforms.Grayscale(num_output_channels=3), \n",
    "                       transforms.ToTensor(),\n",
    "                       transforms.Normalize((0.5, 0.5, 0.5), (0.5, 0.5, 0.5))\n",
    "                   ])),\n",
    "    batch_size=args.batch_size, drop_last=True, shuffle=True, **kwargs)\n",
    "\n",
    "mnist_test_loader = torch.utils.data.DataLoader(\n",
    "    datasets.MNIST('./data/data_mnist', train=False, download=True,\n",
    "                  transform=transforms.Compose([\n",
    "                       transforms.Resize((32,32)),\n",
    "                       transforms.Grayscale(num_output_channels=3), \n",
    "                       transforms.ToTensor(),\n",
    "                       transforms.Normalize((0.5, 0.5, 0.5), (0.5, 0.5, 0.5))\n",
    "                   ])),\n",
    "    batch_size=args.test_batch_size, drop_last=True, shuffle=True, **kwargs)"
   ]
  },
  {
   "cell_type": "markdown",
   "metadata": {},
   "source": [
    "### Feature\n",
    "The geenrator part"
   ]
  },
  {
   "cell_type": "code",
   "execution_count": 5,
   "metadata": {},
   "outputs": [],
   "source": [
    "class Feature(nn.Module):\n",
    "    def __init__(self):\n",
    "        super(Feature, self).__init__()\n",
    "        self.conv1 = nn.Conv2d(3, 64, kernel_size=5, stride=1, padding=2)\n",
    "        self.bn1 = nn.BatchNorm2d(64)\n",
    "        self.conv2 = nn.Conv2d(64, 64, kernel_size=5, stride=1, padding=2)\n",
    "        self.bn2 = nn.BatchNorm2d(64)\n",
    "        self.conv3 = nn.Conv2d(64, 128, kernel_size=5, stride=1, padding=2)\n",
    "        self.bn3 = nn.BatchNorm2d(128)\n",
    "        self.fc1 = nn.Linear(8192, 3072)\n",
    "        self.bn1_fc = nn.BatchNorm1d(3072)\n",
    "\n",
    "    def forward(self, x):\n",
    "        x = F.max_pool2d(F.relu(self.bn1(self.conv1(x))), stride=2, kernel_size=3, padding=1)\n",
    "        x = F.max_pool2d(F.relu(self.bn2(self.conv2(x))), stride=2, kernel_size=3, padding=1)\n",
    "        x = F.relu(self.bn3(self.conv3(x)))\n",
    "        x = x.view(x.size(0), 8192)\n",
    "        x = F.relu(self.bn1_fc(self.fc1(x)))\n",
    "        x = F.dropout(x, training=self.training)\n",
    "        return x"
   ]
  },
  {
   "cell_type": "markdown",
   "metadata": {},
   "source": [
    "### Predictor\n",
    "The prediction part"
   ]
  },
  {
   "cell_type": "code",
   "execution_count": 6,
   "metadata": {},
   "outputs": [],
   "source": [
    "class Predictor(nn.Module):\n",
    "    def __init__(self, prob=0.5):\n",
    "        super(Predictor, self).__init__()\n",
    "        self.fc1 = nn.Linear(8192, 3072)\n",
    "        self.bn1_fc = nn.BatchNorm1d(3072)\n",
    "        self.fc2 = nn.Linear(3072, 2048)\n",
    "        self.bn2_fc = nn.BatchNorm1d(2048)\n",
    "        self.fc3 = nn.Linear(2048, 10)\n",
    "        self.bn_fc3 = nn.BatchNorm1d(10)\n",
    "        self.prob = prob\n",
    "\n",
    "    def forward(self, x):\n",
    "        x = F.relu(self.bn2_fc(self.fc2(x)))\n",
    "        x = self.fc3(x)\n",
    "        return x"
   ]
  },
  {
   "cell_type": "markdown",
   "metadata": {},
   "source": [
    "### Model initialization"
   ]
  },
  {
   "cell_type": "code",
   "execution_count": 7,
   "metadata": {},
   "outputs": [],
   "source": [
    "def init_weights(m):\n",
    "    if type(m) == nn.Conv2d:\n",
    "        nn.init.xavier_normal(m.weight)\n",
    "    if type(m) == nn.Linear:\n",
    "        nn.init.xavier_normal(m.weight)"
   ]
  },
  {
   "cell_type": "code",
   "execution_count": 8,
   "metadata": {},
   "outputs": [],
   "source": [
    "G = Feature().apply(init_weights).to(device)\n",
    "C1 = Predictor().apply(init_weights).to(device)\n",
    "C2 = Predictor().apply(init_weights).to(device)"
   ]
  },
  {
   "cell_type": "code",
   "execution_count": 9,
   "metadata": {},
   "outputs": [],
   "source": [
    "opt_G = optim.Adam(G.parameters(),lr=args.lr, weight_decay=0.0005)\n",
    "opt_C1 = optim.Adam(C1.parameters(), lr=args.lr, weight_decay=0.0005)\n",
    "opt_C2 = optim.Adam(C2.parameters(), lr=args.lr, weight_decay=0.0005)\n",
    "criterion = nn.CrossEntropyLoss()"
   ]
  },
  {
   "cell_type": "markdown",
   "metadata": {},
   "source": [
    "### Train"
   ]
  },
  {
   "cell_type": "code",
   "execution_count": 10,
   "metadata": {},
   "outputs": [],
   "source": [
    "def train():\n",
    "    G.train()\n",
    "    C1.train()\n",
    "    C2.train()\n",
    "    \n",
    "    def reset_grad():\n",
    "        opt_G.zero_grad()\n",
    "        opt_C1.zero_grad()\n",
    "        opt_C2.zero_grad()\n",
    "    \n",
    "    def discrepancy(out1, out2):\n",
    "        return torch.mean(torch.abs(F.softmax(out1)- F.softmax(out2)))\n",
    "\n",
    "    data_zip = enumerate(zip(svhn_train_loader, mnist_train_loader))\n",
    "    for batch_idx, ((img_s, label_s), (img_t,_)) in data_zip:\n",
    "        img_t = img_t.to(device)\n",
    "        img_s = img_s.to(device)\n",
    "        label_s = label_s.to(device)\n",
    "        \n",
    "        reset_grad()\n",
    "        feat_s = G(img_s)\n",
    "        output_s1 = C1(feat_s)\n",
    "        output_s2 = C2(feat_s)\n",
    "        \n",
    "        loss_s1 = criterion(output_s1, label_s)\n",
    "        loss_s2 = criterion(output_s2, label_s)\n",
    "        loss_s = loss_s1 + loss_s2\n",
    "        \n",
    "        loss_s.backward()\n",
    "        opt_G.step()\n",
    "        opt_C1.step()\n",
    "        opt_C2.step()\n",
    "        \n",
    "        reset_grad()\n",
    "        feat_s = G(img_s)\n",
    "        output_s1 = C1(feat_s)\n",
    "        output_s2 = C2(feat_s)\n",
    "        feat_t = G(img_t)\n",
    "        output_t1 = C1(feat_t)\n",
    "        output_t2 = C2(feat_t)\n",
    "        \n",
    "        loss_s1 = criterion(output_s1, label_s)\n",
    "        loss_s2 = criterion(output_s2, label_s)\n",
    "        loss_s = loss_s1 + loss_s2\n",
    "        loss_dis = discrepancy(output_t1, output_t2)\n",
    "        loss = loss_s - loss_dis\n",
    "        \n",
    "        loss.backward()\n",
    "        opt_C1.step()\n",
    "        opt_C2.step()\n",
    "        \n",
    "        reset_grad()\n",
    "        \n",
    "        for i in range(args.num_k):\n",
    "            feature_t = G(img_t)\n",
    "            output_t1 = C1(feature_t)\n",
    "            output_t2 = C2(feature_t)\n",
    "            loss_dis = discrepancy(output_t1, output_t2)\n",
    "            loss_dis.backward()\n",
    "            opt_G.step()\n",
    "            reset_grad()\n",
    "        \n",
    "        if (batch_idx + 1) % args.log_interval == 0:\n",
    "            print(\"Epoch: {}/{} [{}/{}]: Loss1: {:.5f}, Loss2: {:.5f}, Discrepancy: {:.5f}\"\n",
    "                 .format(epoch + 1, args.epochs, batch_idx + 1, min(len(svhn_train_loader), len(mnist_train_loader)), \n",
    "                         loss_s1.item(), loss_s2.item(), loss_dis.item()))"
   ]
  },
  {
   "cell_type": "markdown",
   "metadata": {},
   "source": [
    "### Test"
   ]
  },
  {
   "cell_type": "code",
   "execution_count": 11,
   "metadata": {},
   "outputs": [],
   "source": [
    "list_acc_mnist_train = []\n",
    "list_acc_svhn_train = []\n",
    "list_acc_svhn_test = []\n",
    "\n",
    "def test():\n",
    "    G.eval()\n",
    "    C1.eval()\n",
    "    C2.eval()\n",
    "\n",
    "\n",
    "    correct = 0\n",
    "    \n",
    "    for (img_s, label_s) in mnist_test_loader:\n",
    "        img_s = img_s.to(device)\n",
    "        label_s = label_s.to(device)\n",
    "        \n",
    "        feat = G(img_s)\n",
    "        output1 = C1(feat)\n",
    "        output2 = C2(feat)\n",
    "        \n",
    "        output_ensemble = output1 + output2\n",
    "        pred_ensemble = output_ensemble.data.max(1)[1]\n",
    "        \n",
    "        correct += pred_ensemble.eq(label_s.data).cpu().sum()\n",
    "        \n",
    "    acc_mnist_train = 100. * correct / len(mnist_test_loader.dataset)\n",
    "    \n",
    "    \n",
    "    correct = 0\n",
    "    \n",
    "    for (img_s, label_s) in svhn_train_loader:\n",
    "        img_s = img_s.to(device)\n",
    "        label_s = label_s.to(device)\n",
    "        \n",
    "        feat = G(img_s)\n",
    "        output1 = C1(feat)\n",
    "        output2 = C2(feat)\n",
    "        \n",
    "        output_ensemble = output1 + output2\n",
    "        pred_ensemble = output_ensemble.data.max(1)[1]\n",
    "        \n",
    "        correct += pred_ensemble.eq(label_s.data).cpu().sum()\n",
    "    \n",
    "    acc_svhn_train = 100. * correct / len(svhn_train_loader.dataset)\n",
    "    \n",
    "    \n",
    "    correct = 0\n",
    "    \n",
    "    for (img_s, label_s) in svhn_test_loader:\n",
    "        img_s = img_s.to(device)\n",
    "        label_s = label_s.to(device)\n",
    "        \n",
    "        feat = G(img_s)\n",
    "        output1 = C1(feat)\n",
    "        output2 = C2(feat)\n",
    "        \n",
    "        output_ensemble = output1 + output2\n",
    "        pred_ensemble = output_ensemble.data.max(1)[1]\n",
    "        \n",
    "        correct += pred_ensemble.eq(label_s.data).cpu().sum()\n",
    "    \n",
    "    acc_svhn_test = 100. * correct / len(svhn_test_loader.dataset)\n",
    "        \n",
    "    print(\n",
    "        '\\nTest: MNIST Test: {:.0f}%, SVHN Train: {:.0f}%, SVHN Test: {:.0f}% \\n'.format(\n",
    "            acc_mnist_train, acc_svhn_train, acc_svhn_test))\n",
    "    list_acc_mnist_train.append(acc_mnist_train)\n",
    "    list_acc_svhn_train.append(acc_svhn_train)\n",
    "    list_acc_svhn_test.append(acc_svhn_test)"
   ]
  },
  {
   "cell_type": "markdown",
   "metadata": {},
   "source": [
    "### Main"
   ]
  },
  {
   "cell_type": "code",
   "execution_count": 12,
   "metadata": {},
   "outputs": [
    {
     "name": "stdout",
     "output_type": "stream",
     "text": [
      "Epoch: 1/20 [100/468]: Loss1: 0.48013, Loss2: 0.46642, Discrepancy: 0.01412\n",
      "Epoch: 1/20 [200/468]: Loss1: 0.43323, Loss2: 0.44460, Discrepancy: 0.01302\n",
      "Epoch: 1/20 [300/468]: Loss1: 0.31360, Loss2: 0.35238, Discrepancy: 0.01034\n",
      "Epoch: 1/20 [400/468]: Loss1: 0.39734, Loss2: 0.36853, Discrepancy: 0.00811\n",
      "\n",
      "Test: MNIST Test: 80%, SVHN Train: 53%, SVHN Test: 53% \n",
      "\n",
      "Epoch: 2/20 [100/468]: Loss1: 0.35029, Loss2: 0.36453, Discrepancy: 0.00608\n",
      "Epoch: 2/20 [200/468]: Loss1: 0.20641, Loss2: 0.21610, Discrepancy: 0.00495\n",
      "Epoch: 2/20 [300/468]: Loss1: 0.27683, Loss2: 0.26658, Discrepancy: 0.00658\n",
      "Epoch: 2/20 [400/468]: Loss1: 0.33804, Loss2: 0.32718, Discrepancy: 0.00470\n",
      "\n",
      "Test: MNIST Test: 82%, SVHN Train: 68%, SVHN Test: 67% \n",
      "\n",
      "Epoch: 3/20 [100/468]: Loss1: 0.18715, Loss2: 0.18048, Discrepancy: 0.00409\n",
      "Epoch: 3/20 [200/468]: Loss1: 0.19343, Loss2: 0.19267, Discrepancy: 0.00550\n",
      "Epoch: 3/20 [300/468]: Loss1: 0.16113, Loss2: 0.16693, Discrepancy: 0.00413\n",
      "Epoch: 3/20 [400/468]: Loss1: 0.17858, Loss2: 0.18457, Discrepancy: 0.00361\n",
      "\n",
      "Test: MNIST Test: 81%, SVHN Train: 67%, SVHN Test: 66% \n",
      "\n",
      "Epoch: 4/20 [100/468]: Loss1: 0.18420, Loss2: 0.18047, Discrepancy: 0.00452\n",
      "Epoch: 4/20 [200/468]: Loss1: 0.20927, Loss2: 0.21824, Discrepancy: 0.00253\n",
      "Epoch: 4/20 [300/468]: Loss1: 0.21226, Loss2: 0.20982, Discrepancy: 0.00337\n",
      "Epoch: 4/20 [400/468]: Loss1: 0.35398, Loss2: 0.34916, Discrepancy: 0.00453\n",
      "\n",
      "Test: MNIST Test: 82%, SVHN Train: 73%, SVHN Test: 71% \n",
      "\n",
      "Epoch: 5/20 [100/468]: Loss1: 0.13936, Loss2: 0.14431, Discrepancy: 0.00277\n",
      "Epoch: 5/20 [200/468]: Loss1: 0.09791, Loss2: 0.10010, Discrepancy: 0.00456\n",
      "Epoch: 5/20 [300/468]: Loss1: 0.22564, Loss2: 0.23246, Discrepancy: 0.00335\n",
      "Epoch: 5/20 [400/468]: Loss1: 0.10005, Loss2: 0.09984, Discrepancy: 0.00362\n",
      "\n",
      "Test: MNIST Test: 83%, SVHN Train: 68%, SVHN Test: 68% \n",
      "\n",
      "Epoch: 6/20 [100/468]: Loss1: 0.12907, Loss2: 0.12955, Discrepancy: 0.00291\n",
      "Epoch: 6/20 [200/468]: Loss1: 0.21553, Loss2: 0.20492, Discrepancy: 0.00333\n",
      "Epoch: 6/20 [300/468]: Loss1: 0.20484, Loss2: 0.20232, Discrepancy: 0.00493\n",
      "Epoch: 6/20 [400/468]: Loss1: 0.22384, Loss2: 0.22399, Discrepancy: 0.00488\n",
      "\n",
      "Test: MNIST Test: 86%, SVHN Train: 72%, SVHN Test: 71% \n",
      "\n",
      "Epoch: 7/20 [100/468]: Loss1: 0.24181, Loss2: 0.25146, Discrepancy: 0.00423\n",
      "Epoch: 7/20 [200/468]: Loss1: 0.18093, Loss2: 0.17221, Discrepancy: 0.00317\n",
      "Epoch: 7/20 [300/468]: Loss1: 0.19983, Loss2: 0.19794, Discrepancy: 0.00440\n",
      "Epoch: 7/20 [400/468]: Loss1: 0.25360, Loss2: 0.24749, Discrepancy: 0.00397\n",
      "\n",
      "Test: MNIST Test: 87%, SVHN Train: 75%, SVHN Test: 72% \n",
      "\n",
      "Epoch: 8/20 [100/468]: Loss1: 0.08851, Loss2: 0.08871, Discrepancy: 0.00384\n",
      "Epoch: 8/20 [200/468]: Loss1: 0.17882, Loss2: 0.18232, Discrepancy: 0.00384\n",
      "Epoch: 8/20 [300/468]: Loss1: 0.21212, Loss2: 0.20829, Discrepancy: 0.00316\n",
      "Epoch: 8/20 [400/468]: Loss1: 0.19689, Loss2: 0.20257, Discrepancy: 0.00239\n",
      "\n",
      "Test: MNIST Test: 89%, SVHN Train: 77%, SVHN Test: 74% \n",
      "\n",
      "Epoch: 9/20 [100/468]: Loss1: 0.12315, Loss2: 0.11969, Discrepancy: 0.00329\n",
      "Epoch: 9/20 [200/468]: Loss1: 0.10351, Loss2: 0.10663, Discrepancy: 0.00374\n",
      "Epoch: 9/20 [300/468]: Loss1: 0.09322, Loss2: 0.09545, Discrepancy: 0.00346\n",
      "Epoch: 9/20 [400/468]: Loss1: 0.18623, Loss2: 0.18123, Discrepancy: 0.00246\n",
      "\n",
      "Test: MNIST Test: 88%, SVHN Train: 73%, SVHN Test: 72% \n",
      "\n",
      "Epoch: 10/20 [100/468]: Loss1: 0.09092, Loss2: 0.08853, Discrepancy: 0.00346\n",
      "Epoch: 10/20 [200/468]: Loss1: 0.17216, Loss2: 0.17563, Discrepancy: 0.00232\n",
      "Epoch: 10/20 [300/468]: Loss1: 0.11937, Loss2: 0.11630, Discrepancy: 0.00377\n",
      "Epoch: 10/20 [400/468]: Loss1: 0.09998, Loss2: 0.09649, Discrepancy: 0.00316\n",
      "\n",
      "Test: MNIST Test: 88%, SVHN Train: 82%, SVHN Test: 80% \n",
      "\n",
      "Epoch: 11/20 [100/468]: Loss1: 0.17154, Loss2: 0.17760, Discrepancy: 0.00278\n",
      "Epoch: 11/20 [200/468]: Loss1: 0.17575, Loss2: 0.17874, Discrepancy: 0.00295\n",
      "Epoch: 11/20 [300/468]: Loss1: 0.24665, Loss2: 0.24513, Discrepancy: 0.00457\n",
      "Epoch: 11/20 [400/468]: Loss1: 0.16398, Loss2: 0.15979, Discrepancy: 0.00303\n",
      "\n",
      "Test: MNIST Test: 89%, SVHN Train: 79%, SVHN Test: 79% \n",
      "\n",
      "Epoch: 12/20 [100/468]: Loss1: 0.07474, Loss2: 0.07900, Discrepancy: 0.00204\n",
      "Epoch: 12/20 [200/468]: Loss1: 0.09896, Loss2: 0.10376, Discrepancy: 0.00443\n",
      "Epoch: 12/20 [300/468]: Loss1: 0.12727, Loss2: 0.12332, Discrepancy: 0.00296\n",
      "Epoch: 12/20 [400/468]: Loss1: 0.08892, Loss2: 0.08690, Discrepancy: 0.00338\n",
      "\n",
      "Test: MNIST Test: 89%, SVHN Train: 81%, SVHN Test: 79% \n",
      "\n",
      "Epoch: 13/20 [100/468]: Loss1: 0.08340, Loss2: 0.08407, Discrepancy: 0.00277\n",
      "Epoch: 13/20 [200/468]: Loss1: 0.11374, Loss2: 0.10856, Discrepancy: 0.00325\n",
      "Epoch: 13/20 [300/468]: Loss1: 0.15540, Loss2: 0.14916, Discrepancy: 0.00198\n",
      "Epoch: 13/20 [400/468]: Loss1: 0.10427, Loss2: 0.10748, Discrepancy: 0.00224\n",
      "\n",
      "Test: MNIST Test: 88%, SVHN Train: 76%, SVHN Test: 75% \n",
      "\n",
      "Epoch: 14/20 [100/468]: Loss1: 0.07765, Loss2: 0.08201, Discrepancy: 0.00287\n",
      "Epoch: 14/20 [200/468]: Loss1: 0.11363, Loss2: 0.11531, Discrepancy: 0.00331\n",
      "Epoch: 14/20 [300/468]: Loss1: 0.18794, Loss2: 0.18873, Discrepancy: 0.00329\n",
      "Epoch: 14/20 [400/468]: Loss1: 0.05013, Loss2: 0.04987, Discrepancy: 0.00260\n",
      "\n",
      "Test: MNIST Test: 89%, SVHN Train: 75%, SVHN Test: 74% \n",
      "\n",
      "Epoch: 15/20 [100/468]: Loss1: 0.05283, Loss2: 0.05503, Discrepancy: 0.00174\n",
      "Epoch: 15/20 [200/468]: Loss1: 0.12287, Loss2: 0.12424, Discrepancy: 0.00277\n",
      "Epoch: 15/20 [300/468]: Loss1: 0.16815, Loss2: 0.16901, Discrepancy: 0.00202\n",
      "Epoch: 15/20 [400/468]: Loss1: 0.14087, Loss2: 0.13447, Discrepancy: 0.00235\n",
      "\n",
      "Test: MNIST Test: 89%, SVHN Train: 85%, SVHN Test: 81% \n",
      "\n",
      "Epoch: 16/20 [100/468]: Loss1: 0.08554, Loss2: 0.08478, Discrepancy: 0.00252\n",
      "Epoch: 16/20 [200/468]: Loss1: 0.07792, Loss2: 0.07891, Discrepancy: 0.00262\n",
      "Epoch: 16/20 [300/468]: Loss1: 0.17104, Loss2: 0.16550, Discrepancy: 0.00255\n",
      "Epoch: 16/20 [400/468]: Loss1: 0.11355, Loss2: 0.11478, Discrepancy: 0.00175\n",
      "\n",
      "Test: MNIST Test: 89%, SVHN Train: 85%, SVHN Test: 83% \n",
      "\n",
      "Epoch: 17/20 [100/468]: Loss1: 0.04715, Loss2: 0.05094, Discrepancy: 0.00174\n",
      "Epoch: 17/20 [200/468]: Loss1: 0.04373, Loss2: 0.04470, Discrepancy: 0.00271\n",
      "Epoch: 17/20 [300/468]: Loss1: 0.08915, Loss2: 0.09231, Discrepancy: 0.00162\n",
      "Epoch: 17/20 [400/468]: Loss1: 0.19294, Loss2: 0.18847, Discrepancy: 0.00257\n",
      "\n",
      "Test: MNIST Test: 89%, SVHN Train: 89%, SVHN Test: 87% \n",
      "\n",
      "Epoch: 18/20 [100/468]: Loss1: 0.05773, Loss2: 0.05908, Discrepancy: 0.00240\n",
      "Epoch: 18/20 [200/468]: Loss1: 0.06434, Loss2: 0.06461, Discrepancy: 0.00371\n",
      "Epoch: 18/20 [300/468]: Loss1: 0.11939, Loss2: 0.12182, Discrepancy: 0.00190\n",
      "Epoch: 18/20 [400/468]: Loss1: 0.12986, Loss2: 0.13399, Discrepancy: 0.00230\n",
      "\n",
      "Test: MNIST Test: 89%, SVHN Train: 77%, SVHN Test: 75% \n",
      "\n",
      "Epoch: 19/20 [100/468]: Loss1: 0.09072, Loss2: 0.10063, Discrepancy: 0.00367\n",
      "Epoch: 19/20 [200/468]: Loss1: 0.10735, Loss2: 0.10876, Discrepancy: 0.00287\n",
      "Epoch: 19/20 [300/468]: Loss1: 0.13647, Loss2: 0.13601, Discrepancy: 0.00274\n",
      "Epoch: 19/20 [400/468]: Loss1: 0.08600, Loss2: 0.08911, Discrepancy: 0.00152\n",
      "\n",
      "Test: MNIST Test: 90%, SVHN Train: 87%, SVHN Test: 84% \n",
      "\n",
      "Epoch: 20/20 [100/468]: Loss1: 0.10029, Loss2: 0.09888, Discrepancy: 0.00195\n",
      "Epoch: 20/20 [200/468]: Loss1: 0.09219, Loss2: 0.09164, Discrepancy: 0.00183\n",
      "Epoch: 20/20 [300/468]: Loss1: 0.14642, Loss2: 0.14375, Discrepancy: 0.00279\n",
      "Epoch: 20/20 [400/468]: Loss1: 0.11382, Loss2: 0.11623, Discrepancy: 0.00169\n",
      "\n",
      "Test: MNIST Test: 89%, SVHN Train: 86%, SVHN Test: 84% \n",
      "\n"
     ]
    }
   ],
   "source": [
    "for epoch in range(args.epochs):\n",
    "    train()\n",
    "    test()"
   ]
  },
  {
   "cell_type": "code",
   "execution_count": 13,
   "metadata": {},
   "outputs": [
    {
     "data": {
      "image/png": "[encoded data removed]",
      "text/plain": [
       "<Figure size 432x288 with 1 Axes>"
      ]
     },
     "metadata": {
      "needs_background": "light"
     },
     "output_type": "display_data"
    }
   ],
   "source": [
    "fig, ax = plt.subplots()\n",
    "ax.plot(range(1, args.epochs + 1), list_acc_svhn_train)\n",
    "ax.set(xlabel='epoch', ylabel='accuracy (%)',\n",
    "       title='Accuracy SVHN Train')\n",
    "ax.set_ylim(0, 100)\n",
    "ax.grid()\n",
    "plt.xticks(range(1, args.epochs + 1))\n",
    "plt.show()"
   ]
  },
  {
   "cell_type": "code",
   "execution_count": 14,
   "metadata": {},
   "outputs": [
    {
     "data": {
      "image/png": "[encoded data removed]",
      "text/plain": [
       "<Figure size 432x288 with 1 Axes>"
      ]
     },
     "metadata": {
      "needs_background": "light"
     },
     "output_type": "display_data"
    }
   ],
   "source": [
    "fig, ax = plt.subplots()\n",
    "ax.plot(range(1, args.epochs + 1), list_acc_svhn_test)\n",
    "ax.set(xlabel='epoch', ylabel='accuracy (%)',\n",
    "       title='Accuracy SVHN Test')\n",
    "ax.set_ylim(0, 100)\n",
    "ax.grid()\n",
    "plt.xticks(range(1, args.epochs + 1))\n",
    "plt.show()"
   ]
  },
  {
   "cell_type": "code",
   "execution_count": 15,
   "metadata": {},
   "outputs": [
    {
     "data": {
      "image/png": "[encoded data removed]",
      "text/plain": [
       "<Figure size 432x288 with 1 Axes>"
      ]
     },
     "metadata": {
      "needs_background": "light"
     },
     "output_type": "display_data"
    }
   ],
   "source": [
    "fig, ax = plt.subplots()\n",
    "ax.plot(range(1, args.epochs + 1), list_acc_mnist_train)\n",
    "ax.set(xlabel='epoch', ylabel='accuracy (%)',\n",
    "       title='Accuracy MNIST Test')\n",
    "ax.set_ylim(0, 100)\n",
    "ax.grid()\n",
    "plt.xticks(range(1, args.epochs + 1))\n",
    "plt.show()"
   ]
  }
 ],
 "metadata": {
  "kernelspec": {
   "display_name": "Python 3",
   "language": "python",
   "name": "python3"
  },
  "language_info": {
   "codemirror_mode": {
    "name": "ipython",
    "version": 3
   },
   "file_extension": ".py",
   "mimetype": "text/x-python",
   "name": "python",
   "nbconvert_exporter": "python",
   "pygments_lexer": "ipython3",
   "version": "3.6.6"
  },
  "pycharm": {
   "stem_cell": {
    "cell_type": "raw",
    "metadata": {
     "collapsed": false
    },
    "source": []
   }
  }
 },
 "nbformat": 4,
 "nbformat_minor": 1
}
